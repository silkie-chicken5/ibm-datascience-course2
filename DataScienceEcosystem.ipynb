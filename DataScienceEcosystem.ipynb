{
  "metadata": {
    "kernelspec": {
      "name": "python",
      "display_name": "Python (Pyodide)",
      "language": "python"
    },
    "language_info": {
      "codemirror_mode": {
        "name": "python",
        "version": 3
      },
      "file_extension": ".py",
      "mimetype": "text/x-python",
      "name": "python",
      "nbconvert_exporter": "python",
      "pygments_lexer": "ipython3",
      "version": "3.8"
    }
  },
  "nbformat_minor": 5,
  "nbformat": 4,
  "cells": [
    {
      "id": "a35eeb9f-df70-4ab1-a243-2d2025888eb0",
      "cell_type": "markdown",
      "source": "# Data Science Tools and Ecosystem",
      "metadata": {}
    },
    {
      "id": "599430ff-bd43-4a0a-8599-892185c1c670",
      "cell_type": "markdown",
      "source": "In this notebook, Data Science Tools and Ecosystem are summarized.",
      "metadata": {}
    },
    {
      "id": "1e6e6917-ab94-43bb-9a30-027f73bb0792",
      "cell_type": "markdown",
      "source": "Some of the popular languages that Data Scientists use are:\n1. Python\n2. R\n3. SQL",
      "metadata": {}
    },
    {
      "id": "f9ec512e-20f0-4b4d-beac-a03af7606a0d",
      "cell_type": "markdown",
      "source": "Some of the commonly used libraries used by Data Scientists include:\n1. Pandas\n2. NumPy\n3. Matplotlib",
      "metadata": {}
    },
    {
      "id": "567c2dde-d6c3-4d2b-8f69-95f9ddd23a1a",
      "cell_type": "markdown",
      "source": "| Data Science Tools |\n|--------------------|\n| JupyterLab |\n| Visual Studio Code |\n| R Studio |",
      "metadata": {}
    },
    {
      "id": "1a801673-d3fd-4726-98b1-4945f7ac70c9",
      "cell_type": "markdown",
      "source": "Below are a few examples of evaluating arithmetic expressions in Python.",
      "metadata": {}
    },
    {
      "id": "90205826-063f-4ccb-b25c-8ac55e06bb5b",
      "cell_type": "code",
      "source": "# This a simple arithmetic expression to mutiply then add integers.\n(3*4)+5",
      "metadata": {
        "trusted": true
      },
      "outputs": [
        {
          "execution_count": 3,
          "output_type": "execute_result",
          "data": {
            "text/plain": "17"
          },
          "metadata": {}
        }
      ],
      "execution_count": 3
    },
    {
      "id": "fb984047-1739-40c1-bb5c-e14565967691",
      "cell_type": "code",
      "source": "# This will convert 200 minutes to hours by diving by 60.\n200/60",
      "metadata": {
        "trusted": true
      },
      "outputs": [
        {
          "execution_count": 4,
          "output_type": "execute_result",
          "data": {
            "text/plain": "3.3333333333333335"
          },
          "metadata": {}
        }
      ],
      "execution_count": 4
    },
    {
      "id": "125bad4c-2ad4-4b5b-92ae-7760fd8d6df3",
      "cell_type": "markdown",
      "source": "Objectives:\n- List popular languages for Data Science\n- List popular libraries for Data Science\n- List popular tools for Data Science\n- Demonstrate arithmetic expressions in Python",
      "metadata": {}
    },
    {
      "id": "962195d7-46d1-405a-a99d-e0729136f0e9",
      "cell_type": "markdown",
      "source": "## Author\nMorgane",
      "metadata": {}
    }
  ]
}